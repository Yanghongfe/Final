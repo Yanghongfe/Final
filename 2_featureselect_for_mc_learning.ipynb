{
 "cells": [
  {
   "cell_type": "code",
   "execution_count": 1,
   "id": "initial_id",
   "metadata": {
    "collapsed": true,
    "ExecuteTime": {
     "end_time": "2024-05-02T16:25:49.917641500Z",
     "start_time": "2024-05-02T16:25:49.621564200Z"
    }
   },
   "outputs": [],
   "source": [
    "import pandas as pd\n",
    "from sklearn.feature_extraction.text import CountVectorizer\n",
    "df = pd.read_csv('features_data.csv')"
   ]
  },
  {
   "cell_type": "code",
   "outputs": [],
   "source": [
    "vect = CountVectorizer(analyzer='char', max_df=0.3, min_df=10, ngram_range=(2, 3), lowercase=False, binary=True)\n",
    "feature_matrix = vect.fit_transform(df['name'])\n",
    "feature_names = vect.get_feature_names_out()"
   ],
   "metadata": {
    "collapsed": false,
    "ExecuteTime": {
     "end_time": "2024-05-02T16:25:54.663922600Z",
     "start_time": "2024-05-02T16:25:54.303361500Z"
    }
   },
   "id": "91ce00e87ded4593",
   "execution_count": 2
  },
  {
   "cell_type": "code",
   "outputs": [],
   "source": [
    "df_features = pd.DataFrame(feature_matrix.toarray(), columns=feature_names)\n",
    "name_length_dummies = pd.get_dummies(df['length'], prefix='length').astype(int)"
   ],
   "metadata": {
    "collapsed": false,
    "ExecuteTime": {
     "end_time": "2024-05-02T16:25:56.533494100Z",
     "start_time": "2024-05-02T16:25:56.326247300Z"
    }
   },
   "id": "ed4992b80caa49ae",
   "execution_count": 3
  },
  {
   "cell_type": "code",
   "outputs": [],
   "source": [
    "df_features = pd.concat([df_features, name_length_dummies], axis=1)\n",
    "df_features['starts_with_vowel'] = df['fl_is_v']\n",
    "df_features['ends_with_vowel'] = df['ll_is_v']\n",
    "df_features.to_csv('features_for_mcleaing.csv', index=False)"
   ],
   "metadata": {
    "collapsed": false,
    "ExecuteTime": {
     "end_time": "2024-05-02T16:26:10.258597300Z",
     "start_time": "2024-05-02T16:25:57.234399800Z"
    }
   },
   "id": "a7d8a3ee94b38307",
   "execution_count": 4
  },
  {
   "cell_type": "code",
   "outputs": [
    {
     "data": {
      "text/plain": "(41376, 3537)"
     },
     "execution_count": 8,
     "metadata": {},
     "output_type": "execute_result"
    }
   ],
   "source": [
    "df_features.shape"
   ],
   "metadata": {
    "collapsed": false,
    "ExecuteTime": {
     "end_time": "2024-05-02T16:33:55.844220300Z",
     "start_time": "2024-05-02T16:33:55.841707200Z"
    }
   },
   "id": "583d7a7f462ea5d8",
   "execution_count": 8
  }
 ],
 "metadata": {
  "kernelspec": {
   "display_name": "Python 3",
   "language": "python",
   "name": "python3"
  },
  "language_info": {
   "codemirror_mode": {
    "name": "ipython",
    "version": 2
   },
   "file_extension": ".py",
   "mimetype": "text/x-python",
   "name": "python",
   "nbconvert_exporter": "python",
   "pygments_lexer": "ipython2",
   "version": "2.7.6"
  }
 },
 "nbformat": 4,
 "nbformat_minor": 5
}
