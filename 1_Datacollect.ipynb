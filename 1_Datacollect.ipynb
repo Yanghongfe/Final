{
 "cells": [
  {
   "cell_type": "code",
   "outputs": [],
   "source": [
    "import pandas as pd\n",
    "import re\n",
    "sample_size = 50000\n",
    "\n",
    "def preprocess_name(word):\n",
    "    \"\"\"\n",
    "    Preprocess a given name string by:\n",
    "    - Converting to lowercase\n",
    "    - Removing any characters after '.' or whitespace\n",
    "    - Removing any non-alphabetical characters\n",
    "    - Collapsing consecutive spaces\n",
    "    \"\"\"\n",
    "    processed_name = str(word).lower()\n",
    "    processed_name = re.sub(r'[^a-z.\\s].*', '', processed_name).strip()\n",
    "    processed_name = re.sub(r'[^a-z ]+', '', processed_name).strip()\n",
    "    processed_name = re.sub(r' +', ' ', processed_name).strip()\n",
    "    return processed_name\n",
    "\n",
    "def preprocess_dataset(filename):\n",
    "    \"\"\"\n",
    "    Preprocess the dataset by:\n",
    "    - Reading a sample from a CSV file\n",
    "    - Removing entries with unspecified race, ethnic, or gender codes\n",
    "    - Cleaning and preparing the 'name' field\n",
    "    - Dropping duplicates and NaN values\n",
    "    - Saving the cleaned dataset to a new CSV file\n",
    "    \"\"\"\n",
    "    data = pd.read_csv(filename, nrows=sample_size)\n",
    "    data.drop(data[(data.race_code == 'U') | (data.ethnic_code == 'UN') | (data.gender_code == 'U')].index, inplace=True)\n",
    "    \n",
    "    cleaned_data = pd.DataFrame()\n",
    "    cleaned_data['last_name'] = data['last_name'].str.title()\n",
    "    cleaned_data['first_name'] = data['first_name'].str.title()\n",
    "    cleaned_data['name'] = (cleaned_data['last_name'] + ' ' + cleaned_data['first_name']).apply(preprocess_name)\n",
    "    cleaned_data['race'] = data['race_code']\n",
    "    \n",
    "    print(filename, '\\n')\n",
    "    print('Before:', len(cleaned_data))\n",
    "    print('Duplicates:', cleaned_data.duplicated().sum())\n",
    "    print('Null:', cleaned_data.isna().sum())\n",
    "    \n",
    "    cleaned_data.drop_duplicates(inplace=True)\n",
    "    cleaned_data.dropna(inplace=True)\n",
    "    \n",
    "    print('After:', len(cleaned_data))\n",
    "    cleaned_data.to_csv('clean_data_before_same_length.csv', index=False)\n",
    "    \n",
    "    return cleaned_data\n"
   ],
   "metadata": {
    "collapsed": false,
    "ExecuteTime": {
     "end_time": "2024-05-02T15:10:19.532719400Z",
     "start_time": "2024-05-02T15:10:19.523093300Z"
    }
   },
   "id": "f3c761b79e09fbc8",
   "execution_count": 6
  },
  {
   "cell_type": "code",
   "outputs": [
    {
     "name": "stdout",
     "output_type": "stream",
     "text": [
      "nc_voter_name_gender_race_ethnic_age.csv \n",
      "\n",
      "Before: 35297\n",
      "Duplicates: 2324\n",
      "Null: last_name     0\n",
      "first_name    0\n",
      "name          0\n",
      "race          0\n",
      "dtype: int64\n",
      "After: 32973\n"
     ]
    },
    {
     "data": {
      "text/plain": "        last_name first_name               name race\n0           Aabel       Ruth         aabel ruth    W\n4           Aaron    Claudia      aaron claudia    W\n6           Aaron   Kimberly     aaron kimberly    B\n9           Aaron     Sandra       aaron sandra    W\n10          Aaron     Willie       aaron willie    W\n...           ...        ...                ...  ...\n49992       Helms      Steve        helms steve    W\n49993       Helms      Tyson        helms tyson    W\n49994       Helms      Vonda        helms vonda    W\n49997     Helsley       Kyla       helsley kyla    W\n49999  Helterbran     Ronald  helterbran ronald    W\n\n[32973 rows x 4 columns]",
      "text/html": "<div>\n<style scoped>\n    .dataframe tbody tr th:only-of-type {\n        vertical-align: middle;\n    }\n\n    .dataframe tbody tr th {\n        vertical-align: top;\n    }\n\n    .dataframe thead th {\n        text-align: right;\n    }\n</style>\n<table border=\"1\" class=\"dataframe\">\n  <thead>\n    <tr style=\"text-align: right;\">\n      <th></th>\n      <th>last_name</th>\n      <th>first_name</th>\n      <th>name</th>\n      <th>race</th>\n    </tr>\n  </thead>\n  <tbody>\n    <tr>\n      <th>0</th>\n      <td>Aabel</td>\n      <td>Ruth</td>\n      <td>aabel ruth</td>\n      <td>W</td>\n    </tr>\n    <tr>\n      <th>4</th>\n      <td>Aaron</td>\n      <td>Claudia</td>\n      <td>aaron claudia</td>\n      <td>W</td>\n    </tr>\n    <tr>\n      <th>6</th>\n      <td>Aaron</td>\n      <td>Kimberly</td>\n      <td>aaron kimberly</td>\n      <td>B</td>\n    </tr>\n    <tr>\n      <th>9</th>\n      <td>Aaron</td>\n      <td>Sandra</td>\n      <td>aaron sandra</td>\n      <td>W</td>\n    </tr>\n    <tr>\n      <th>10</th>\n      <td>Aaron</td>\n      <td>Willie</td>\n      <td>aaron willie</td>\n      <td>W</td>\n    </tr>\n    <tr>\n      <th>...</th>\n      <td>...</td>\n      <td>...</td>\n      <td>...</td>\n      <td>...</td>\n    </tr>\n    <tr>\n      <th>49992</th>\n      <td>Helms</td>\n      <td>Steve</td>\n      <td>helms steve</td>\n      <td>W</td>\n    </tr>\n    <tr>\n      <th>49993</th>\n      <td>Helms</td>\n      <td>Tyson</td>\n      <td>helms tyson</td>\n      <td>W</td>\n    </tr>\n    <tr>\n      <th>49994</th>\n      <td>Helms</td>\n      <td>Vonda</td>\n      <td>helms vonda</td>\n      <td>W</td>\n    </tr>\n    <tr>\n      <th>49997</th>\n      <td>Helsley</td>\n      <td>Kyla</td>\n      <td>helsley kyla</td>\n      <td>W</td>\n    </tr>\n    <tr>\n      <th>49999</th>\n      <td>Helterbran</td>\n      <td>Ronald</td>\n      <td>helterbran ronald</td>\n      <td>W</td>\n    </tr>\n  </tbody>\n</table>\n<p>32973 rows × 4 columns</p>\n</div>"
     },
     "execution_count": 7,
     "metadata": {},
     "output_type": "execute_result"
    }
   ],
   "source": [
    "preprocess_dataset('nc_voter_name_gender_race_ethnic_age.csv')"
   ],
   "metadata": {
    "collapsed": false,
    "ExecuteTime": {
     "end_time": "2024-05-02T15:10:20.161241800Z",
     "start_time": "2024-05-02T15:10:20.002867300Z"
    }
   },
   "id": "a409e1f725ba0f27",
   "execution_count": 7
  },
  {
   "cell_type": "code",
   "outputs": [
    {
     "data": {
      "text/plain": "       name\nrace       \nA       213\nB      6896\nI        78\nM       214\nO      1600\nW     23972",
      "text/html": "<div>\n<style scoped>\n    .dataframe tbody tr th:only-of-type {\n        vertical-align: middle;\n    }\n\n    .dataframe tbody tr th {\n        vertical-align: top;\n    }\n\n    .dataframe thead th {\n        text-align: right;\n    }\n</style>\n<table border=\"1\" class=\"dataframe\">\n  <thead>\n    <tr style=\"text-align: right;\">\n      <th></th>\n      <th>name</th>\n    </tr>\n    <tr>\n      <th>race</th>\n      <th></th>\n    </tr>\n  </thead>\n  <tbody>\n    <tr>\n      <th>A</th>\n      <td>213</td>\n    </tr>\n    <tr>\n      <th>B</th>\n      <td>6896</td>\n    </tr>\n    <tr>\n      <th>I</th>\n      <td>78</td>\n    </tr>\n    <tr>\n      <th>M</th>\n      <td>214</td>\n    </tr>\n    <tr>\n      <th>O</th>\n      <td>1600</td>\n    </tr>\n    <tr>\n      <th>W</th>\n      <td>23972</td>\n    </tr>\n  </tbody>\n</table>\n</div>"
     },
     "execution_count": 8,
     "metadata": {},
     "output_type": "execute_result"
    }
   ],
   "source": [
    "df= pd.read_csv('clean_data_before_same_length.csv')\n",
    "df.groupby('race').agg({'name': 'count'})"
   ],
   "metadata": {
    "collapsed": false,
    "ExecuteTime": {
     "end_time": "2024-05-02T15:10:23.197924700Z",
     "start_time": "2024-05-02T15:10:23.174640Z"
    }
   },
   "id": "a16270685355c5c3",
   "execution_count": 8
  },
  {
   "cell_type": "code",
   "outputs": [
    {
     "name": "stdout",
     "output_type": "stream",
     "text": [
      "6896\n"
     ]
    }
   ],
   "source": [
    "race_counts = df['race'].value_counts().sort_values(ascending=False)\n",
    "second_max_size = race_counts.iloc[1] \n",
    "print(second_max_size)\n"
   ],
   "metadata": {
    "collapsed": false,
    "ExecuteTime": {
     "end_time": "2024-05-02T15:10:28.785428900Z",
     "start_time": "2024-05-02T15:10:28.779458500Z"
    }
   },
   "id": "36ab2f571b69d5c3",
   "execution_count": 9
  },
  {
   "cell_type": "code",
   "outputs": [],
   "source": [
    "lst = []\n",
    "for class_index, group in df.groupby('race'):\n",
    "    if len(group) > second_max_size:\n",
    "        resampled_group = group.sample(second_max_size, random_state=1)\n",
    "    elif len(group) < second_max_size:\n",
    "        resampled_group = group.sample(second_max_size, replace=True, random_state=1)\n",
    "    else:\n",
    "        resampled_group = group\n",
    "    lst.append(resampled_group)\n",
    "    \n",
    "balanced_df = pd.concat(lst)"
   ],
   "metadata": {
    "collapsed": false,
    "ExecuteTime": {
     "end_time": "2024-05-02T15:10:29.387839800Z",
     "start_time": "2024-05-02T15:10:29.378884Z"
    }
   },
   "id": "d4335a6b08877dbd",
   "execution_count": 10
  },
  {
   "cell_type": "code",
   "outputs": [
    {
     "data": {
      "text/plain": "      name\nrace      \nA     6896\nB     6896\nI     6896\nM     6896\nO     6896\nW     6896",
      "text/html": "<div>\n<style scoped>\n    .dataframe tbody tr th:only-of-type {\n        vertical-align: middle;\n    }\n\n    .dataframe tbody tr th {\n        vertical-align: top;\n    }\n\n    .dataframe thead th {\n        text-align: right;\n    }\n</style>\n<table border=\"1\" class=\"dataframe\">\n  <thead>\n    <tr style=\"text-align: right;\">\n      <th></th>\n      <th>name</th>\n    </tr>\n    <tr>\n      <th>race</th>\n      <th></th>\n    </tr>\n  </thead>\n  <tbody>\n    <tr>\n      <th>A</th>\n      <td>6896</td>\n    </tr>\n    <tr>\n      <th>B</th>\n      <td>6896</td>\n    </tr>\n    <tr>\n      <th>I</th>\n      <td>6896</td>\n    </tr>\n    <tr>\n      <th>M</th>\n      <td>6896</td>\n    </tr>\n    <tr>\n      <th>O</th>\n      <td>6896</td>\n    </tr>\n    <tr>\n      <th>W</th>\n      <td>6896</td>\n    </tr>\n  </tbody>\n</table>\n</div>"
     },
     "execution_count": 11,
     "metadata": {},
     "output_type": "execute_result"
    }
   ],
   "source": [
    "balanced_df.groupby('race').agg({'name': 'count'})\n"
   ],
   "metadata": {
    "collapsed": false,
    "ExecuteTime": {
     "end_time": "2024-05-02T15:10:34.854261200Z",
     "start_time": "2024-05-02T15:10:34.846681200Z"
    }
   },
   "id": "a9a3732a4df966cf",
   "execution_count": 11
  },
  {
   "cell_type": "code",
   "outputs": [],
   "source": [
    "balanced_df.to_csv('clean_data.csv', index=False)"
   ],
   "metadata": {
    "collapsed": false,
    "ExecuteTime": {
     "end_time": "2024-05-02T15:10:35.853456600Z",
     "start_time": "2024-05-02T15:10:35.806793300Z"
    }
   },
   "id": "99a0d995e6e44430",
   "execution_count": 12
  },
  {
   "cell_type": "code",
   "outputs": [
    {
     "data": {
      "text/plain": "(41376, 4)"
     },
     "execution_count": 13,
     "metadata": {},
     "output_type": "execute_result"
    }
   ],
   "source": [
    "balanced_df.shape"
   ],
   "metadata": {
    "collapsed": false,
    "ExecuteTime": {
     "end_time": "2024-05-02T15:10:36.592822900Z",
     "start_time": "2024-05-02T15:10:36.580482300Z"
    }
   },
   "id": "601d14614ff64b59",
   "execution_count": 13
  }
 ],
 "metadata": {
  "kernelspec": {
   "display_name": "Python 3",
   "language": "python",
   "name": "python3"
  },
  "language_info": {
   "codemirror_mode": {
    "name": "ipython",
    "version": 2
   },
   "file_extension": ".py",
   "mimetype": "text/x-python",
   "name": "python",
   "nbconvert_exporter": "python",
   "pygments_lexer": "ipython2",
   "version": "2.7.6"
  }
 },
 "nbformat": 4,
 "nbformat_minor": 5
}
