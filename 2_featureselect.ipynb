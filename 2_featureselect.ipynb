{
 "cells": [
  {
   "cell_type": "code",
   "execution_count": 2,
   "id": "initial_id",
   "metadata": {
    "collapsed": true,
    "ExecuteTime": {
     "end_time": "2024-05-02T15:13:13.240924Z",
     "start_time": "2024-05-02T15:13:13.237400900Z"
    }
   },
   "outputs": [],
   "source": [
    "import numpy as np\n",
    "import pandas as pd"
   ]
  },
  {
   "cell_type": "code",
   "outputs": [],
   "source": [
    "def is_vowel(c):\n",
    "    c = c.lower()\n",
    "    v_set = list('aeiou')\n",
    "    if c in v_set:\n",
    "        return 1\n",
    "    return 0"
   ],
   "metadata": {
    "collapsed": false,
    "ExecuteTime": {
     "end_time": "2024-05-02T15:13:14.010249400Z",
     "start_time": "2024-05-02T15:13:14.005727800Z"
    }
   },
   "id": "91cf4418d14f2944",
   "execution_count": 3
  },
  {
   "cell_type": "code",
   "outputs": [],
   "source": [
    "def add_features(file_name):\n",
    "    d2 = pd.read_csv(file_name)\n",
    "    #adding new features\n",
    "    d2['name'] = d2.name.astype(str)\n",
    "    d2['length'] = d2.name.apply(lambda x : len(str(x)))\n",
    "    d2['fl_is_v'] = d2.name.apply(lambda x : is_vowel(x[0]))\n",
    "    d2['ll_is_v'] = d2.name.apply(lambda x : is_vowel(x[-1]))\n",
    "    d2['first_2'] = d2.name.apply(lambda x : x[0:2])\n",
    "    d2['last_2'] = d2.name.apply(lambda x : x[-2:])\n",
    "    d2['first_3'] = d2.name.apply(lambda x : x[0:3])\n",
    "    d2['last_3'] = d2.name.apply(lambda x : x[-3:])\n",
    "    #save csv\n",
    "    d2.to_csv('features_data.csv', index=False)"
   ],
   "metadata": {
    "collapsed": false,
    "ExecuteTime": {
     "end_time": "2024-05-02T15:13:14.408449100Z",
     "start_time": "2024-05-02T15:13:14.403241Z"
    }
   },
   "id": "321bd19d38b89b29",
   "execution_count": 4
  },
  {
   "cell_type": "code",
   "outputs": [],
   "source": [
    "add_features('clean_data.csv')\n",
    "\n"
   ],
   "metadata": {
    "collapsed": false,
    "ExecuteTime": {
     "end_time": "2024-05-02T15:13:17.058554Z",
     "start_time": "2024-05-02T15:13:16.930923100Z"
    }
   },
   "id": "ec7c9b748f78c373",
   "execution_count": 5
  },
  {
   "cell_type": "code",
   "outputs": [
    {
     "data": {
      "text/plain": "      name\nrace      \nA     6896\nB     6896\nI     6896\nM     6896\nO     6896\nW     6896",
      "text/html": "<div>\n<style scoped>\n    .dataframe tbody tr th:only-of-type {\n        vertical-align: middle;\n    }\n\n    .dataframe tbody tr th {\n        vertical-align: top;\n    }\n\n    .dataframe thead th {\n        text-align: right;\n    }\n</style>\n<table border=\"1\" class=\"dataframe\">\n  <thead>\n    <tr style=\"text-align: right;\">\n      <th></th>\n      <th>name</th>\n    </tr>\n    <tr>\n      <th>race</th>\n      <th></th>\n    </tr>\n  </thead>\n  <tbody>\n    <tr>\n      <th>A</th>\n      <td>6896</td>\n    </tr>\n    <tr>\n      <th>B</th>\n      <td>6896</td>\n    </tr>\n    <tr>\n      <th>I</th>\n      <td>6896</td>\n    </tr>\n    <tr>\n      <th>M</th>\n      <td>6896</td>\n    </tr>\n    <tr>\n      <th>O</th>\n      <td>6896</td>\n    </tr>\n    <tr>\n      <th>W</th>\n      <td>6896</td>\n    </tr>\n  </tbody>\n</table>\n</div>"
     },
     "execution_count": 6,
     "metadata": {},
     "output_type": "execute_result"
    }
   ],
   "source": [
    "df = pd.read_csv('features_data.csv')\n",
    "df.shape\n",
    "df.groupby('race').agg({'name': 'count'})"
   ],
   "metadata": {
    "collapsed": false,
    "ExecuteTime": {
     "end_time": "2024-05-02T15:13:18.132472Z",
     "start_time": "2024-05-02T15:13:18.082953200Z"
    }
   },
   "id": "6477ca462f2848c1",
   "execution_count": 6
  }
 ],
 "metadata": {
  "kernelspec": {
   "display_name": "Python 3",
   "language": "python",
   "name": "python3"
  },
  "language_info": {
   "codemirror_mode": {
    "name": "ipython",
    "version": 2
   },
   "file_extension": ".py",
   "mimetype": "text/x-python",
   "name": "python",
   "nbconvert_exporter": "python",
   "pygments_lexer": "ipython2",
   "version": "2.7.6"
  }
 },
 "nbformat": 4,
 "nbformat_minor": 5
}
